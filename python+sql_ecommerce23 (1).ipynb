{
 "cells": [
  {
   "cell_type": "code",
   "execution_count": 160,
   "id": "f73e577d-1798-4a15-b750-e88e5a756899",
   "metadata": {},
   "outputs": [
    {
     "ename": "SyntaxError",
     "evalue": "(unicode error) 'unicodeescape' codec can't decode bytes in position 2-3: truncated \\UXXXXXXXX escape (2560908645.py, line 26)",
     "output_type": "error",
     "traceback": [
      "  \u001b[36mCell\u001b[39m\u001b[36m \u001b[39m\u001b[32mIn[160]\u001b[39m\u001b[32m, line 26\u001b[39m\n\u001b[31m    \u001b[39m\u001b[31mfolder_path = 'C:\\Users\\pc\\OneDrive\\Documents\\ecommerce_data\\Archive'\u001b[39m\n                  ^\n\u001b[31mSyntaxError\u001b[39m\u001b[31m:\u001b[39m (unicode error) 'unicodeescape' codec can't decode bytes in position 2-3: truncated \\UXXXXXXXX escape\n"
     ]
    }
   ],
   "source": [
    "import pandas as pd\n",
    "import mysql.connector\n",
    "import os\n",
    "\n",
    "# List of CSV files and their corresponding table names\n",
    "csv_files = [\n",
    "    ('customers.csv', 'customers'),\n",
    "    ('orders.csv', 'orders'),\n",
    "    ('sales.csv', 'sellers'),\n",
    "    ('products.csv', 'products'),\n",
    "    ('geolocation.csv', 'geolocation'),\n",
    "    ('payments.csv', 'payments'),\n",
    "    ('order_items.csv','order_items')# Added payments.csv for specific handling\n",
    "]\n",
    "\n",
    "# Connect to the MySQL database\n",
    "conn = mysql.connector.connect(\n",
    "    host='localhost',\n",
    "    user='root',\n",
    "    password='jitendra',\n",
    "    database='ecommerce'\n",
    ")\n",
    "cursor = conn.cursor()\n",
    "\n",
    "# Folder containing the CSV files\n",
    "folder_path = 'C:\\Users\\pc\\OneDrive\\Documents\\ecommerce_data\\Archive'\n",
    "\n",
    "def get_sql_type(dtype):\n",
    "    if pd.api.types.is_integer_dtype(dtype):\n",
    "        return 'INT'\n",
    "    elif pd.api.types.is_float_dtype(dtype):\n",
    "        return 'FLOAT'\n",
    "    elif pd.api.types.is_bool_dtype(dtype):\n",
    "        return 'BOOLEAN'\n",
    "    elif pd.api.types.is_datetime64_any_dtype(dtype):\n",
    "        return 'DATETIME'\n",
    "    else:\n",
    "        return 'TEXT'\n",
    "\n",
    "for csv_file, table_name in csv_files:\n",
    "    file_path = os.path.join(folder_path, csv_file)\n",
    "    \n",
    "    # Read the CSV file into a pandas DataFrame\n",
    "    df = pd.read_csv(file_path)\n",
    "    \n",
    "    # Replace NaN with None to handle SQL NULL\n",
    "    df = df.where(pd.notnull(df), None)\n",
    "    \n",
    "    # Debugging: Check for NaN values\n",
    "    print(f\"Processing {csv_file}\")\n",
    "    print(f\"NaN values before replacement:\\n{df.isnull().sum()}\\n\")\n",
    "\n",
    "    # Clean column names\n",
    "    df.columns = [col.replace(' ', '_').replace('-', '_').replace('.', '_') for col in df.columns]\n",
    "\n",
    "    # Generate the CREATE TABLE statement with appropriate data types\n",
    "    columns = ', '.join([f'`{col}` {get_sql_type(df[col].dtype)}' for col in df.columns])\n",
    "    create_table_query = f'CREATE TABLE IF NOT EXISTS `{table_name}` ({columns})'\n",
    "    cursor.execute(create_table_query)\n",
    "\n",
    "    # Insert DataFrame data into the MySQL table\n",
    "    for _, row in df.iterrows():\n",
    "        # Convert row to tuple and handle NaN/None explicitly\n",
    "        values = tuple(None if pd.isna(x) else x for x in row)\n",
    "        sql = f\"INSERT INTO `{table_name}` ({', '.join(['`' + col + '`' for col in df.columns])}) VALUES ({', '.join(['%s'] * len(row))})\"\n",
    "        cursor.execute(sql, values)\n",
    "\n",
    "    # Commit the transaction for the current CSV file\n",
    "    conn.commit()\n",
    "\n",
    "# Close the connection\n",
    "conn.close()\n"
   ]
  },
  {
   "cell_type": "code",
   "execution_count": 153,
   "id": "1f999f7f-bcb3-4297-bd8b-8120088ba6fe",
   "metadata": {},
   "outputs": [
    {
     "name": "stdout",
     "output_type": "stream",
     "text": [
      "Requirement already satisfied: pandas in c:\\users\\pc\\appdata\\local\\programs\\python\\python312\\lib\\site-packages (2.3.0)\n",
      "Requirement already satisfied: numpy>=1.26.0 in c:\\users\\pc\\appdata\\local\\programs\\python\\python312\\lib\\site-packages (from pandas) (2.3.1)\n",
      "Requirement already satisfied: python-dateutil>=2.8.2 in c:\\users\\pc\\appdata\\local\\programs\\python\\python312\\lib\\site-packages (from pandas) (2.9.0.post0)\n",
      "Requirement already satisfied: pytz>=2020.1 in c:\\users\\pc\\appdata\\local\\programs\\python\\python312\\lib\\site-packages (from pandas) (2025.2)\n",
      "Requirement already satisfied: tzdata>=2022.7 in c:\\users\\pc\\appdata\\local\\programs\\python\\python312\\lib\\site-packages (from pandas) (2025.2)\n",
      "Requirement already satisfied: six>=1.5 in c:\\users\\pc\\appdata\\local\\programs\\python\\python312\\lib\\site-packages (from python-dateutil>=2.8.2->pandas) (1.17.0)\n",
      "Note: you may need to restart the kernel to use updated packages.\n"
     ]
    },
    {
     "name": "stderr",
     "output_type": "stream",
     "text": [
      "\n",
      "[notice] A new release of pip is available: 25.0.1 -> 25.2\n",
      "[notice] To update, run: python.exe -m pip install --upgrade pip\n"
     ]
    }
   ],
   "source": [
    "pip install pandas \n"
   ]
  },
  {
   "cell_type": "code",
   "execution_count": 3,
   "id": "222c6082-6bf6-4411-a2ab-22b31dd797f8",
   "metadata": {},
   "outputs": [
    {
     "name": "stdout",
     "output_type": "stream",
     "text": [
      "Requirement already satisfied: mysql-connector-python in c:\\users\\pc\\appdata\\local\\programs\\python\\python312\\lib\\site-packages (9.4.0)\n",
      "Note: you may need to restart the kernel to use updated packages.\n"
     ]
    },
    {
     "name": "stderr",
     "output_type": "stream",
     "text": [
      "\n",
      "[notice] A new release of pip is available: 25.0.1 -> 25.2\n",
      "[notice] To update, run: python.exe -m pip install --upgrade pip\n"
     ]
    }
   ],
   "source": [
    "pip install mysql-connector-python "
   ]
  },
  {
   "cell_type": "code",
   "execution_count": 5,
   "id": "0a22cea4-d228-450e-8a99-38ed190dada6",
   "metadata": {},
   "outputs": [
    {
     "name": "stdout",
     "output_type": "stream",
     "text": [
      "Requirement already satisfied: seaborn in c:\\users\\pc\\appdata\\local\\programs\\python\\python312\\lib\\site-packages (0.13.2)\n",
      "Requirement already satisfied: numpy!=1.24.0,>=1.20 in c:\\users\\pc\\appdata\\local\\programs\\python\\python312\\lib\\site-packages (from seaborn) (2.3.1)\n",
      "Requirement already satisfied: pandas>=1.2 in c:\\users\\pc\\appdata\\local\\programs\\python\\python312\\lib\\site-packages (from seaborn) (2.3.0)\n",
      "Requirement already satisfied: matplotlib!=3.6.1,>=3.4 in c:\\users\\pc\\appdata\\local\\programs\\python\\python312\\lib\\site-packages (from seaborn) (3.10.3)\n",
      "Requirement already satisfied: contourpy>=1.0.1 in c:\\users\\pc\\appdata\\local\\programs\\python\\python312\\lib\\site-packages (from matplotlib!=3.6.1,>=3.4->seaborn) (1.3.2)\n",
      "Requirement already satisfied: cycler>=0.10 in c:\\users\\pc\\appdata\\local\\programs\\python\\python312\\lib\\site-packages (from matplotlib!=3.6.1,>=3.4->seaborn) (0.12.1)\n",
      "Requirement already satisfied: fonttools>=4.22.0 in c:\\users\\pc\\appdata\\local\\programs\\python\\python312\\lib\\site-packages (from matplotlib!=3.6.1,>=3.4->seaborn) (4.58.4)\n",
      "Requirement already satisfied: kiwisolver>=1.3.1 in c:\\users\\pc\\appdata\\local\\programs\\python\\python312\\lib\\site-packages (from matplotlib!=3.6.1,>=3.4->seaborn) (1.4.8)\n",
      "Requirement already satisfied: packaging>=20.0 in c:\\users\\pc\\appdata\\local\\programs\\python\\python312\\lib\\site-packages (from matplotlib!=3.6.1,>=3.4->seaborn) (25.0)\n",
      "Requirement already satisfied: pillow>=8 in c:\\users\\pc\\appdata\\local\\programs\\python\\python312\\lib\\site-packages (from matplotlib!=3.6.1,>=3.4->seaborn) (11.2.1)\n",
      "Requirement already satisfied: pyparsing>=2.3.1 in c:\\users\\pc\\appdata\\local\\programs\\python\\python312\\lib\\site-packages (from matplotlib!=3.6.1,>=3.4->seaborn) (3.2.3)\n",
      "Requirement already satisfied: python-dateutil>=2.7 in c:\\users\\pc\\appdata\\local\\programs\\python\\python312\\lib\\site-packages (from matplotlib!=3.6.1,>=3.4->seaborn) (2.9.0.post0)\n",
      "Requirement already satisfied: pytz>=2020.1 in c:\\users\\pc\\appdata\\local\\programs\\python\\python312\\lib\\site-packages (from pandas>=1.2->seaborn) (2025.2)\n",
      "Requirement already satisfied: tzdata>=2022.7 in c:\\users\\pc\\appdata\\local\\programs\\python\\python312\\lib\\site-packages (from pandas>=1.2->seaborn) (2025.2)\n",
      "Requirement already satisfied: six>=1.5 in c:\\users\\pc\\appdata\\local\\programs\\python\\python312\\lib\\site-packages (from python-dateutil>=2.7->matplotlib!=3.6.1,>=3.4->seaborn) (1.17.0)\n",
      "Note: you may need to restart the kernel to use updated packages.\n"
     ]
    },
    {
     "name": "stderr",
     "output_type": "stream",
     "text": [
      "\n",
      "[notice] A new release of pip is available: 25.0.1 -> 25.2\n",
      "[notice] To update, run: python.exe -m pip install --upgrade pip\n"
     ]
    }
   ],
   "source": [
    "pip install seaborn"
   ]
  },
  {
   "cell_type": "code",
   "execution_count": null,
   "id": "e605d75a-91d1-41c7-a134-4027ed80dc24",
   "metadata": {},
   "outputs": [],
   "source": []
  },
  {
   "cell_type": "code",
   "execution_count": 211,
   "id": "858ff8d7-0f33-429d-bd41-bfbe58f41e77",
   "metadata": {
    "scrolled": true
   },
   "outputs": [],
   "source": [
    "import pandas as pd\n",
    "import matplotlib.pyplot as pit\n",
    "import seaborn as sns\n",
    "import mysql.connector\n",
    "import numpy as np\n",
    "\n",
    "\n",
    "db =mysql.connector.connect(host=\"localhost\",\n",
    "                            username = \"root\",\n",
    "                            password = \"jitendra\",\n",
    "                            database = \"ecommerce23\")\n",
    "cur = db.cursor()\n",
    "\n"
   ]
  },
  {
   "cell_type": "markdown",
   "id": "5b32cd3e-0ba2-4618-bef7-d51a5d507924",
   "metadata": {},
   "source": [
    "# 1 Basic Queries :---"
   ]
  },
  {
   "cell_type": "markdown",
   "id": "4c6d57d8-b822-40c6-9ccc-f1aef99ae58f",
   "metadata": {},
   "source": [
    " # 1 List all unique cities where customers are located.\n"
   ]
  },
  {
   "cell_type": "code",
   "execution_count": 212,
   "id": "7f76d841-f4a8-4a99-876a-ae418997cf8a",
   "metadata": {},
   "outputs": [
    {
     "data": {
      "text/html": [
       "<div>\n",
       "<style scoped>\n",
       "    .dataframe tbody tr th:only-of-type {\n",
       "        vertical-align: middle;\n",
       "    }\n",
       "\n",
       "    .dataframe tbody tr th {\n",
       "        vertical-align: top;\n",
       "    }\n",
       "\n",
       "    .dataframe thead th {\n",
       "        text-align: right;\n",
       "    }\n",
       "</style>\n",
       "<table border=\"1\" class=\"dataframe\">\n",
       "  <thead>\n",
       "    <tr style=\"text-align: right;\">\n",
       "      <th></th>\n",
       "      <th>0</th>\n",
       "    </tr>\n",
       "  </thead>\n",
       "  <tbody>\n",
       "    <tr>\n",
       "      <th>0</th>\n",
       "      <td>franca</td>\n",
       "    </tr>\n",
       "    <tr>\n",
       "      <th>1</th>\n",
       "      <td>sao bernardo do campo</td>\n",
       "    </tr>\n",
       "    <tr>\n",
       "      <th>2</th>\n",
       "      <td>sao paulo</td>\n",
       "    </tr>\n",
       "    <tr>\n",
       "      <th>3</th>\n",
       "      <td>mogi das cruzes</td>\n",
       "    </tr>\n",
       "    <tr>\n",
       "      <th>4</th>\n",
       "      <td>campinas</td>\n",
       "    </tr>\n",
       "  </tbody>\n",
       "</table>\n",
       "</div>"
      ],
      "text/plain": [
       "                       0\n",
       "0                 franca\n",
       "1  sao bernardo do campo\n",
       "2              sao paulo\n",
       "3        mogi das cruzes\n",
       "4               campinas"
      ]
     },
     "execution_count": 212,
     "metadata": {},
     "output_type": "execute_result"
    }
   ],
   "source": [
    "query =\"\"\" select distinct customer_city from customers\"\"\"\n",
    "cur.execute(query)\n",
    "data = cur.fetchall()\n",
    "\n",
    "df = pd.DataFrame(data)\n",
    "df.head()"
   ]
  },
  {
   "cell_type": "code",
   "execution_count": null,
   "id": "8b221585-fc5d-42ea-a994-151968cce1c6",
   "metadata": {},
   "outputs": [],
   "source": []
  },
  {
   "cell_type": "markdown",
   "id": "f985b00a-43c3-4153-b1dd-3ec70ebe2a66",
   "metadata": {},
   "source": [
    " # 2 Count the number of orders placed in 2017.\n",
    " "
   ]
  },
  {
   "cell_type": "code",
   "execution_count": 40,
   "id": "e4d5fe39-1146-4250-895d-ce168b92fe63",
   "metadata": {},
   "outputs": [
    {
     "data": {
      "text/plain": [
       "('toatal orders placed in 2017 are', 45101)"
      ]
     },
     "execution_count": 40,
     "metadata": {},
     "output_type": "execute_result"
    }
   ],
   "source": [
    "query =\"\"\" select  count(order_id) from orders where year(order_purchase_timestamp) = 2017\"\"\"\n",
    "cur.execute(query)\n",
    "data = cur.fetchall()\n",
    "\n",
    "\"toatal orders placed in 2017 are\" ,data[0][0]"
   ]
  },
  {
   "cell_type": "markdown",
   "id": "1634ca42-b0c7-4087-be5b-882497d3d461",
   "metadata": {},
   "source": [
    "# 3 Find the total sales per category."
   ]
  },
  {
   "cell_type": "code",
   "execution_count": 53,
   "id": "a219f4e5-a72a-4a1e-aa08-656b9aa19984",
   "metadata": {},
   "outputs": [
    {
     "data": {
      "text/html": [
       "<div>\n",
       "<style scoped>\n",
       "    .dataframe tbody tr th:only-of-type {\n",
       "        vertical-align: middle;\n",
       "    }\n",
       "\n",
       "    .dataframe tbody tr th {\n",
       "        vertical-align: top;\n",
       "    }\n",
       "\n",
       "    .dataframe thead th {\n",
       "        text-align: right;\n",
       "    }\n",
       "</style>\n",
       "<table border=\"1\" class=\"dataframe\">\n",
       "  <thead>\n",
       "    <tr style=\"text-align: right;\">\n",
       "      <th></th>\n",
       "      <th>category</th>\n",
       "      <th>sales</th>\n",
       "    </tr>\n",
       "  </thead>\n",
       "  <tbody>\n",
       "    <tr>\n",
       "      <th>0</th>\n",
       "      <td>PERFUMERY</td>\n",
       "      <td>506738.66</td>\n",
       "    </tr>\n",
       "    <tr>\n",
       "      <th>1</th>\n",
       "      <td>FURNITURE DECORATION</td>\n",
       "      <td>1430176.39</td>\n",
       "    </tr>\n",
       "    <tr>\n",
       "      <th>2</th>\n",
       "      <td>TELEPHONY</td>\n",
       "      <td>486882.05</td>\n",
       "    </tr>\n",
       "    <tr>\n",
       "      <th>3</th>\n",
       "      <td>BED TABLE BATH</td>\n",
       "      <td>1712553.67</td>\n",
       "    </tr>\n",
       "    <tr>\n",
       "      <th>4</th>\n",
       "      <td>AUTOMOTIVE</td>\n",
       "      <td>852294.33</td>\n",
       "    </tr>\n",
       "    <tr>\n",
       "      <th>...</th>\n",
       "      <td>...</td>\n",
       "      <td>...</td>\n",
       "    </tr>\n",
       "    <tr>\n",
       "      <th>69</th>\n",
       "      <td>CDS MUSIC DVDS</td>\n",
       "      <td>1199.43</td>\n",
       "    </tr>\n",
       "    <tr>\n",
       "      <th>70</th>\n",
       "      <td>LA CUISINE</td>\n",
       "      <td>2913.53</td>\n",
       "    </tr>\n",
       "    <tr>\n",
       "      <th>71</th>\n",
       "      <td>FASHION CHILDREN'S CLOTHING</td>\n",
       "      <td>785.67</td>\n",
       "    </tr>\n",
       "    <tr>\n",
       "      <th>72</th>\n",
       "      <td>PC GAMER</td>\n",
       "      <td>2174.43</td>\n",
       "    </tr>\n",
       "    <tr>\n",
       "      <th>73</th>\n",
       "      <td>INSURANCE AND SERVICES</td>\n",
       "      <td>324.51</td>\n",
       "    </tr>\n",
       "  </tbody>\n",
       "</table>\n",
       "<p>74 rows × 2 columns</p>\n",
       "</div>"
      ],
      "text/plain": [
       "                       category       sales\n",
       "0                     PERFUMERY   506738.66\n",
       "1          FURNITURE DECORATION  1430176.39\n",
       "2                     TELEPHONY   486882.05\n",
       "3                BED TABLE BATH  1712553.67\n",
       "4                    AUTOMOTIVE   852294.33\n",
       "..                          ...         ...\n",
       "69               CDS MUSIC DVDS     1199.43\n",
       "70                   LA CUISINE     2913.53\n",
       "71  FASHION CHILDREN'S CLOTHING      785.67\n",
       "72                     PC GAMER     2174.43\n",
       "73       INSURANCE AND SERVICES      324.51\n",
       "\n",
       "[74 rows x 2 columns]"
      ]
     },
     "execution_count": 53,
     "metadata": {},
     "output_type": "execute_result"
    }
   ],
   "source": [
    "query =\"\"\" select  upper(products.product_category) category, round(sum(payments.payment_value) ,2)sales\n",
    "from products join order_items\n",
    "on products.product_id = order_items.product_id\n",
    "join payments\n",
    "on payments.order_id = order_items.order_id\n",
    "group by category\n",
    "\"\"\"\n",
    "cur.execute(query)\n",
    "data = cur.fetchall()\n",
    "df = pd.DataFrame(data,columns =[\"category\",\"sales\"])\n",
    "df"
   ]
  },
  {
   "cell_type": "markdown",
   "id": "c79c9a5d-775c-43d8-b948-99763181453c",
   "metadata": {},
   "source": [
    "# 4. Calculate the percentage of orders that were paid in installments."
   ]
  },
  {
   "cell_type": "code",
   "execution_count": 213,
   "id": "13a70340-8816-44cc-af52-1a3072b863b6",
   "metadata": {},
   "outputs": [
    {
     "name": "stdout",
     "output_type": "stream",
     "text": [
      "the percentage of orders that were paid in installments is 99.9981\n"
     ]
    }
   ],
   "source": [
    "query =\"\"\" select  (sum(case when payment_installments >=1 then 1\n",
    "else 0 end))/count(*)*100 from payments\n",
    "\"\"\"\n",
    "cur.execute(query)\n",
    "data = cur.fetchall()\n",
    "print(\n",
    "    \"the percentage of orders that were paid in installments is\",data[0][0]\n",
    "    )\n"
   ]
  },
  {
   "cell_type": "code",
   "execution_count": null,
   "id": "3d7ece64-1167-4b74-8237-8597e54165a6",
   "metadata": {},
   "outputs": [],
   "source": []
  },
  {
   "cell_type": "markdown",
   "id": "794bcb28-01c8-4720-a4d0-26d6425827b1",
   "metadata": {},
   "source": [
    "# 5. Count the number of customers from each state. \n"
   ]
  },
  {
   "cell_type": "code",
   "execution_count": 199,
   "id": "0692aba8-9087-4c4d-8c25-689b4e54e26d",
   "metadata": {
    "scrolled": true
   },
   "outputs": [
    {
     "data": {
      "image/png": "[encoded data removed]",
      "text/plain": [
       "<Figure size 800x300 with 1 Axes>"
      ]
     },
     "metadata": {},
     "output_type": "display_data"
    }
   ],
   "source": [
    "\n",
    "\n",
    "\n",
    "query =\"\"\" select customer_state,count(customer_id)\n",
    "from customers group by customer_state\n",
    "\"\"\"\n",
    "cur.execute(query)\n",
    "data = cur.fetchall()\n",
    "df = pd.DataFrame(data,columns =[\"state\",\"customer_count\"])\n",
    "df = df.sort_values(by =\"customer_count\",ascending=False)\n",
    "pit.figure(figsize = (8,3))\n",
    "plt.bar(df[\"state\"],df[\"customer_count\"])\n",
    "\n",
    "plt.xticks(rotation = 90)\n",
    "\n",
    "plt.xlabel(\"states\")\n",
    "plt.ylabel(\"customer_count\")\n",
    "plt.title(\"count of customer by states \")\n",
    "plt.show()\n"
   ]
  },
  {
   "cell_type": "markdown",
   "id": "f1d7a693-542f-484d-bd4e-d217175dadeb",
   "metadata": {},
   "source": [
    "# 2 Intermediate Queries :--"
   ]
  },
  {
   "cell_type": "markdown",
   "id": "a0b439c7-99da-46e9-bea3-bd3ef59a4b5e",
   "metadata": {},
   "source": [
    "# 1. Calculate the number of orders per month in 2018."
   ]
  },
  {
   "cell_type": "code",
   "execution_count": null,
   "id": "a45e6f8a-542e-46a6-a188-f49780d48031",
   "metadata": {},
   "outputs": [],
   "source": []
  },
  {
   "cell_type": "code",
   "execution_count": 198,
   "id": "3d7c3d9b-7e47-466d-9d98-9fc86beccb50",
   "metadata": {
    "scrolled": true
   },
   "outputs": [
    {
     "data": {
      "image/png": "[encoded data removed]",
      "text/plain": [
       "<Figure size 640x480 with 1 Axes>"
      ]
     },
     "metadata": {},
     "output_type": "display_data"
    }
   ],
   "source": [
    "\n",
    "\n",
    "query = \"\"\"\n",
    "select monthname(order_purchase_timestamp) as months,\n",
    "       count(order_id) as order_count\n",
    "from orders\n",
    "where year(order_purchase_timestamp) = 2018\n",
    "group by months\n",
    "\"\"\"\n",
    "\n",
    "cur.execute(query)\n",
    "data = cur.fetchall()\n",
    "\n",
    "df = pd.DataFrame(data, columns=[\"Months\", \"order_count\"])\n",
    "\n",
    "# Month order fix karne ke liye\n",
    "order = [\"January\", \"February\", \"March\", \"April\", \"May\", \"June\", \n",
    "         \"July\", \"August\", \"September\", \"October\", \"November\", \"December\"]\n",
    "\n",
    "ax=sns.barplot(x=df[\"Months\"], y=df[\"order_count\"], data=df, order=order,color=\"red\")\n",
    "plt.xticks(rotation=90)\n",
    "ax.bar_label(ax.containers[0])\n",
    "plt.title(\"count of Order by Months\")\n",
    "plt.show()"
   ]
  },
  {
   "cell_type": "markdown",
   "id": "05aa8e6a-fe0a-4288-8c49-40c97e06984b",
   "metadata": {},
   "source": [
    "# 2. Find the average number of products per order, grouped by customer city."
   ]
  },
  {
   "cell_type": "code",
   "execution_count": 165,
   "id": "7412749c-bee6-42a1-8c9a-7efb20df9b49",
   "metadata": {},
   "outputs": [
    {
     "data": {
      "text/html": [
       "<div>\n",
       "<style scoped>\n",
       "    .dataframe tbody tr th:only-of-type {\n",
       "        vertical-align: middle;\n",
       "    }\n",
       "\n",
       "    .dataframe tbody tr th {\n",
       "        vertical-align: top;\n",
       "    }\n",
       "\n",
       "    .dataframe thead th {\n",
       "        text-align: right;\n",
       "    }\n",
       "</style>\n",
       "<table border=\"1\" class=\"dataframe\">\n",
       "  <thead>\n",
       "    <tr style=\"text-align: right;\">\n",
       "      <th></th>\n",
       "      <th>customer city</th>\n",
       "      <th>average  products/order</th>\n",
       "    </tr>\n",
       "  </thead>\n",
       "  <tbody>\n",
       "    <tr>\n",
       "      <th>0</th>\n",
       "      <td>padre carvalho</td>\n",
       "      <td>7.00</td>\n",
       "    </tr>\n",
       "    <tr>\n",
       "      <th>1</th>\n",
       "      <td>celso ramos</td>\n",
       "      <td>6.50</td>\n",
       "    </tr>\n",
       "    <tr>\n",
       "      <th>2</th>\n",
       "      <td>datas</td>\n",
       "      <td>6.00</td>\n",
       "    </tr>\n",
       "    <tr>\n",
       "      <th>3</th>\n",
       "      <td>candido godoi</td>\n",
       "      <td>6.00</td>\n",
       "    </tr>\n",
       "    <tr>\n",
       "      <th>4</th>\n",
       "      <td>matias olimpio</td>\n",
       "      <td>5.00</td>\n",
       "    </tr>\n",
       "    <tr>\n",
       "      <th>5</th>\n",
       "      <td>cidelandia</td>\n",
       "      <td>4.00</td>\n",
       "    </tr>\n",
       "    <tr>\n",
       "      <th>6</th>\n",
       "      <td>picarra</td>\n",
       "      <td>4.00</td>\n",
       "    </tr>\n",
       "    <tr>\n",
       "      <th>7</th>\n",
       "      <td>morro de sao paulo</td>\n",
       "      <td>4.00</td>\n",
       "    </tr>\n",
       "    <tr>\n",
       "      <th>8</th>\n",
       "      <td>teixeira soares</td>\n",
       "      <td>4.00</td>\n",
       "    </tr>\n",
       "    <tr>\n",
       "      <th>9</th>\n",
       "      <td>curralinho</td>\n",
       "      <td>4.00</td>\n",
       "    </tr>\n",
       "  </tbody>\n",
       "</table>\n",
       "</div>"
      ],
      "text/plain": [
       "        customer city average  products/order\n",
       "0      padre carvalho                    7.00\n",
       "1         celso ramos                    6.50\n",
       "2               datas                    6.00\n",
       "3       candido godoi                    6.00\n",
       "4      matias olimpio                    5.00\n",
       "5          cidelandia                    4.00\n",
       "6             picarra                    4.00\n",
       "7  morro de sao paulo                    4.00\n",
       "8     teixeira soares                    4.00\n",
       "9          curralinho                    4.00"
      ]
     },
     "execution_count": 165,
     "metadata": {},
     "output_type": "execute_result"
    }
   ],
   "source": [
    "query=\"\"\" with count_per_order as \n",
    "(SELECT  orders.order_id,orders.customer_id,count(order_items.order_id)  as oc \n",
    "FROM \n",
    "ecommerce23.orders join ecommerce23.order_items\n",
    "on orders.order_id = order_items.order_id\n",
    "group by orders.order_id ,orders.customer_id)\n",
    "\n",
    "select customers.customer_city,round(avg(count_per_order.oc),2)average_orders\n",
    "from ecommerce23.customers join count_per_order\n",
    "on customers.customer_id = count_per_order.customer_id\n",
    "group by customers.customer_city \n",
    "order by average_orders desc\n",
    "\"\"\"\n",
    "\n",
    "cur.execute(query)\n",
    "data=cur.fetchall()\n",
    "df=pd.DataFrame(data,columns=[\"customer city\",\"average  products/order\"])\n",
    "df.head(10)"
   ]
  },
  {
   "cell_type": "markdown",
   "id": "36c9fc29-44b9-473b-b2ca-026db501501d",
   "metadata": {},
   "source": [
    "# 3. Calculate the percentage of total revenue contributed by each product category."
   ]
  },
  {
   "cell_type": "code",
   "execution_count": 168,
   "id": "c107a27d-368a-4ec4-80aa-23aaa881defd",
   "metadata": {
    "scrolled": true
   },
   "outputs": [
    {
     "data": {
      "text/html": [
       "<div>\n",
       "<style scoped>\n",
       "    .dataframe tbody tr th:only-of-type {\n",
       "        vertical-align: middle;\n",
       "    }\n",
       "\n",
       "    .dataframe tbody tr th {\n",
       "        vertical-align: top;\n",
       "    }\n",
       "\n",
       "    .dataframe thead th {\n",
       "        text-align: right;\n",
       "    }\n",
       "</style>\n",
       "<table border=\"1\" class=\"dataframe\">\n",
       "  <thead>\n",
       "    <tr style=\"text-align: right;\">\n",
       "      <th></th>\n",
       "      <th>category</th>\n",
       "      <th>percentage distribution</th>\n",
       "    </tr>\n",
       "  </thead>\n",
       "  <tbody>\n",
       "    <tr>\n",
       "      <th>0</th>\n",
       "      <td>bed table bath</td>\n",
       "      <td>10.70</td>\n",
       "    </tr>\n",
       "    <tr>\n",
       "      <th>1</th>\n",
       "      <td>HEALTH BEAUTY</td>\n",
       "      <td>10.35</td>\n",
       "    </tr>\n",
       "    <tr>\n",
       "      <th>2</th>\n",
       "      <td>computer accessories</td>\n",
       "      <td>9.90</td>\n",
       "    </tr>\n",
       "    <tr>\n",
       "      <th>3</th>\n",
       "      <td>Furniture Decoration</td>\n",
       "      <td>8.93</td>\n",
       "    </tr>\n",
       "    <tr>\n",
       "      <th>4</th>\n",
       "      <td>Watches present</td>\n",
       "      <td>8.93</td>\n",
       "    </tr>\n",
       "  </tbody>\n",
       "</table>\n",
       "</div>"
      ],
      "text/plain": [
       "               category  percentage distribution\n",
       "0        bed table bath                    10.70\n",
       "1         HEALTH BEAUTY                    10.35\n",
       "2  computer accessories                     9.90\n",
       "3  Furniture Decoration                     8.93\n",
       "4       Watches present                     8.93"
      ]
     },
     "execution_count": 168,
     "metadata": {},
     "output_type": "execute_result"
    }
   ],
   "source": [
    "query=\"\"\" select  products.product_category category, round((sum(payments.payment_value)/(select sum(payment_value) from ecommerce23.payments))*100 ,2) sales_percentage\n",
    "from ecommerce23.products join ecommerce23.order_items\n",
    "on ecommerce23.products.product_id =ecommerce23.order_items.product_id\n",
    "join ecommerce23.payments\n",
    "on ecommerce23.payments.order_id = ecommerce23.order_items.order_id\n",
    "group by category\n",
    "order by sales_percentage desc \"\"\"\n",
    "cur.execute(query)\n",
    "data=cur.fetchall()\n",
    "df=pd.DataFrame(data,columns=[\"category\",\"percentage distribution\"])\n",
    "df.head()"
   ]
  },
  {
   "cell_type": "markdown",
   "id": "84e5e764-ce0d-42f5-994f-ac1d7cd05792",
   "metadata": {},
   "source": [
    "# 4. Identify the correlation between product price and the number of times a product has been purchased."
   ]
  },
  {
   "cell_type": "code",
   "execution_count": 214,
   "id": "80d0d333-65bc-4939-a60a-966e75d7494c",
   "metadata": {},
   "outputs": [
    {
     "name": "stdout",
     "output_type": "stream",
     "text": [
      "the correlation between price and number of times a product has been purchased is -0.10631514167157562\n"
     ]
    }
   ],
   "source": [
    "query=\"\"\"SELECT products.product_category,\n",
    " count(order_items.product_id),round(avg(order_items.price),2)\n",
    " from ecommerce23.products join ecommerce23.order_items\n",
    " on products.product_id = order_items.product_id\n",
    " group by products.product_category   \"\"\"\n",
    "\n",
    "cur.execute(query)\n",
    "data=cur.fetchall()\n",
    "df=pd.DataFrame(data,columns=[\"category\",\"order_count\",\"price\"])\n",
    "arr1=df[\"order_count\"]\n",
    "arr2=df[\"price\"]\n",
    "a=np.corrcoef([arr1,arr2])\n",
    "print(\"the correlation between price and number of times a product has been purchased is\", a[0][1])"
   ]
  },
  {
   "cell_type": "markdown",
   "id": "02b67003-5c6f-4f7b-92c4-317be1cf9afc",
   "metadata": {},
   "source": [
    "# 5. Calculate the total revenue generated by each seller, and rank them by revenue."
   ]
  },
  {
   "cell_type": "code",
   "execution_count": 215,
   "id": "048248c3-5d2c-441b-8b4c-0e5a40f6619d",
   "metadata": {},
   "outputs": [
    {
     "data": {
      "image/png": "[encoded data removed]",
      "text/plain": [
       "<Figure size 640x480 with 1 Axes>"
      ]
     },
     "metadata": {},
     "output_type": "display_data"
    }
   ],
   "source": [
    "query= \"\"\"select *, dense_rank() over(order by revenue desc)as rn from\n",
    "(select order_items.seller_id,sum(payments.payment_value) revenue\n",
    "from order_items join payments\n",
    "on order_items.order_id = payments.order_id\n",
    "group by order_items.seller_id) as a\n",
    "\n",
    "\"\"\"\n",
    "cur.execute(query)\n",
    "data=cur.fetchall()\n",
    "df=pd.DataFrame(data,columns=[\"seller_id\",\"revenue\",\"rank\"])\n",
    "df=df.head()\n",
    "sns.barplot(x=\"seller_id\",y=\"revenue\",data=df)\n",
    "plt.xticks(rotation=90)\n",
    "plt.show()"
   ]
  },
  {
   "cell_type": "code",
   "execution_count": null,
   "id": "95f24f3b-df37-4fd1-bd1a-33d423132045",
   "metadata": {},
   "outputs": [],
   "source": []
  },
  {
   "cell_type": "markdown",
   "id": "b7d194f1-a1c0-41d8-acaf-c6a5ed210712",
   "metadata": {},
   "source": [
    "# 1. Calculate the moving average of order values for each customer over their order history."
   ]
  },
  {
   "cell_type": "code",
   "execution_count": 216,
   "id": "ce8378cb-c621-46c6-987c-ba8ab652f893",
   "metadata": {},
   "outputs": [
    {
     "data": {
      "text/html": [
       "<div>\n",
       "<style scoped>\n",
       "    .dataframe tbody tr th:only-of-type {\n",
       "        vertical-align: middle;\n",
       "    }\n",
       "\n",
       "    .dataframe tbody tr th {\n",
       "        vertical-align: top;\n",
       "    }\n",
       "\n",
       "    .dataframe thead th {\n",
       "        text-align: right;\n",
       "    }\n",
       "</style>\n",
       "<table border=\"1\" class=\"dataframe\">\n",
       "  <thead>\n",
       "    <tr style=\"text-align: right;\">\n",
       "      <th></th>\n",
       "      <th>0</th>\n",
       "      <th>1</th>\n",
       "      <th>2</th>\n",
       "      <th>3</th>\n",
       "    </tr>\n",
       "  </thead>\n",
       "  <tbody>\n",
       "    <tr>\n",
       "      <th>0</th>\n",
       "      <td>00012a2ce6f8dcda20d059ce98491703</td>\n",
       "      <td>2017-11-14 16:08:26</td>\n",
       "      <td>114.74</td>\n",
       "      <td>114.739998</td>\n",
       "    </tr>\n",
       "    <tr>\n",
       "      <th>1</th>\n",
       "      <td>000161a058600d5901f007fab4c27140</td>\n",
       "      <td>2017-07-16 09:40:32</td>\n",
       "      <td>67.41</td>\n",
       "      <td>67.410004</td>\n",
       "    </tr>\n",
       "    <tr>\n",
       "      <th>2</th>\n",
       "      <td>0001fd6190edaaf884bcaf3d49edf079</td>\n",
       "      <td>2017-02-28 11:06:43</td>\n",
       "      <td>195.42</td>\n",
       "      <td>195.419998</td>\n",
       "    </tr>\n",
       "    <tr>\n",
       "      <th>3</th>\n",
       "      <td>0002414f95344307404f0ace7a26f1d5</td>\n",
       "      <td>2017-08-16 13:09:20</td>\n",
       "      <td>179.35</td>\n",
       "      <td>179.350006</td>\n",
       "    </tr>\n",
       "    <tr>\n",
       "      <th>4</th>\n",
       "      <td>000379cdec625522490c315e70c7a9fb</td>\n",
       "      <td>2018-04-02 13:42:17</td>\n",
       "      <td>107.01</td>\n",
       "      <td>107.010002</td>\n",
       "    </tr>\n",
       "    <tr>\n",
       "      <th>...</th>\n",
       "      <td>...</td>\n",
       "      <td>...</td>\n",
       "      <td>...</td>\n",
       "      <td>...</td>\n",
       "    </tr>\n",
       "    <tr>\n",
       "      <th>103881</th>\n",
       "      <td>fffecc9f79fd8c764f843e9951b11341</td>\n",
       "      <td>2018-03-29 16:59:26</td>\n",
       "      <td>71.23</td>\n",
       "      <td>27.120001</td>\n",
       "    </tr>\n",
       "    <tr>\n",
       "      <th>103882</th>\n",
       "      <td>fffeda5b6d849fbd39689bb92087f431</td>\n",
       "      <td>2018-05-22 13:36:02</td>\n",
       "      <td>63.13</td>\n",
       "      <td>63.130001</td>\n",
       "    </tr>\n",
       "    <tr>\n",
       "      <th>103883</th>\n",
       "      <td>ffff42319e9b2d713724ae527742af25</td>\n",
       "      <td>2018-06-13 16:57:05</td>\n",
       "      <td>214.13</td>\n",
       "      <td>214.130005</td>\n",
       "    </tr>\n",
       "    <tr>\n",
       "      <th>103884</th>\n",
       "      <td>ffffa3172527f765de70084a7e53aae8</td>\n",
       "      <td>2017-09-02 11:53:32</td>\n",
       "      <td>45.50</td>\n",
       "      <td>45.500000</td>\n",
       "    </tr>\n",
       "    <tr>\n",
       "      <th>103885</th>\n",
       "      <td>ffffe8b65bbe3087b653a978c870db99</td>\n",
       "      <td>2017-09-29 14:07:03</td>\n",
       "      <td>18.37</td>\n",
       "      <td>18.370001</td>\n",
       "    </tr>\n",
       "  </tbody>\n",
       "</table>\n",
       "<p>103886 rows × 4 columns</p>\n",
       "</div>"
      ],
      "text/plain": [
       "                                       0                    1       2  \\\n",
       "0       00012a2ce6f8dcda20d059ce98491703  2017-11-14 16:08:26  114.74   \n",
       "1       000161a058600d5901f007fab4c27140  2017-07-16 09:40:32   67.41   \n",
       "2       0001fd6190edaaf884bcaf3d49edf079  2017-02-28 11:06:43  195.42   \n",
       "3       0002414f95344307404f0ace7a26f1d5  2017-08-16 13:09:20  179.35   \n",
       "4       000379cdec625522490c315e70c7a9fb  2018-04-02 13:42:17  107.01   \n",
       "...                                  ...                  ...     ...   \n",
       "103881  fffecc9f79fd8c764f843e9951b11341  2018-03-29 16:59:26   71.23   \n",
       "103882  fffeda5b6d849fbd39689bb92087f431  2018-05-22 13:36:02   63.13   \n",
       "103883  ffff42319e9b2d713724ae527742af25  2018-06-13 16:57:05  214.13   \n",
       "103884  ffffa3172527f765de70084a7e53aae8  2017-09-02 11:53:32   45.50   \n",
       "103885  ffffe8b65bbe3087b653a978c870db99  2017-09-29 14:07:03   18.37   \n",
       "\n",
       "                 3  \n",
       "0       114.739998  \n",
       "1        67.410004  \n",
       "2       195.419998  \n",
       "3       179.350006  \n",
       "4       107.010002  \n",
       "...            ...  \n",
       "103881   27.120001  \n",
       "103882   63.130001  \n",
       "103883  214.130005  \n",
       "103884   45.500000  \n",
       "103885   18.370001  \n",
       "\n",
       "[103886 rows x 4 columns]"
      ]
     },
     "execution_count": 216,
     "metadata": {},
     "output_type": "execute_result"
    }
   ],
   "source": [
    "query= \"\"\"select customer_id, order_purchase_timestamp,payment,\n",
    "avg(payment) over(partition by customer_id order by order_purchase_timestamp\n",
    "rows between 2 preceding and current row) as mov_avg\n",
    "from(SELECT orders.customer_id,orders.order_purchase_timestamp,\n",
    "payments.payment_value as payment\n",
    " FROM\n",
    "  ecommerce23.payments join  ecommerce23.orders\n",
    " on payments.order_id = orders.order_id) as a\n",
    "\"\"\"\n",
    "cur.execute(query)\n",
    "data=cur.fetchall()\n",
    "df=pd.DataFrame(data)\n",
    "df"
   ]
  },
  {
   "cell_type": "markdown",
   "id": "1f069311-6cbc-4bd3-971b-917b2d83aa56",
   "metadata": {},
   "source": [
    "# 2. Calculate the cumulative sales per month for each year."
   ]
  },
  {
   "cell_type": "code",
   "execution_count": 229,
   "id": "75d847c3-7f49-4c31-bae3-d24c1fde9abe",
   "metadata": {},
   "outputs": [
    {
     "data": {
      "text/html": [
       "<div>\n",
       "<style scoped>\n",
       "    .dataframe tbody tr th:only-of-type {\n",
       "        vertical-align: middle;\n",
       "    }\n",
       "\n",
       "    .dataframe tbody tr th {\n",
       "        vertical-align: top;\n",
       "    }\n",
       "\n",
       "    .dataframe thead th {\n",
       "        text-align: right;\n",
       "    }\n",
       "</style>\n",
       "<table border=\"1\" class=\"dataframe\">\n",
       "  <thead>\n",
       "    <tr style=\"text-align: right;\">\n",
       "      <th></th>\n",
       "      <th>0</th>\n",
       "      <th>1</th>\n",
       "      <th>2</th>\n",
       "      <th>3</th>\n",
       "    </tr>\n",
       "  </thead>\n",
       "  <tbody>\n",
       "    <tr>\n",
       "      <th>0</th>\n",
       "      <td>2016</td>\n",
       "      <td>9</td>\n",
       "      <td>252.24</td>\n",
       "      <td>252.24</td>\n",
       "    </tr>\n",
       "    <tr>\n",
       "      <th>1</th>\n",
       "      <td>2016</td>\n",
       "      <td>10</td>\n",
       "      <td>59090.48</td>\n",
       "      <td>59342.72</td>\n",
       "    </tr>\n",
       "    <tr>\n",
       "      <th>2</th>\n",
       "      <td>2016</td>\n",
       "      <td>12</td>\n",
       "      <td>19.62</td>\n",
       "      <td>59362.34</td>\n",
       "    </tr>\n",
       "    <tr>\n",
       "      <th>3</th>\n",
       "      <td>2017</td>\n",
       "      <td>1</td>\n",
       "      <td>138488.04</td>\n",
       "      <td>197850.38</td>\n",
       "    </tr>\n",
       "    <tr>\n",
       "      <th>4</th>\n",
       "      <td>2017</td>\n",
       "      <td>2</td>\n",
       "      <td>291908.01</td>\n",
       "      <td>489758.39</td>\n",
       "    </tr>\n",
       "    <tr>\n",
       "      <th>5</th>\n",
       "      <td>2017</td>\n",
       "      <td>3</td>\n",
       "      <td>449863.60</td>\n",
       "      <td>939621.99</td>\n",
       "    </tr>\n",
       "    <tr>\n",
       "      <th>6</th>\n",
       "      <td>2017</td>\n",
       "      <td>4</td>\n",
       "      <td>417788.03</td>\n",
       "      <td>1357410.02</td>\n",
       "    </tr>\n",
       "    <tr>\n",
       "      <th>7</th>\n",
       "      <td>2017</td>\n",
       "      <td>5</td>\n",
       "      <td>592918.82</td>\n",
       "      <td>1950328.84</td>\n",
       "    </tr>\n",
       "    <tr>\n",
       "      <th>8</th>\n",
       "      <td>2017</td>\n",
       "      <td>6</td>\n",
       "      <td>511276.38</td>\n",
       "      <td>2461605.22</td>\n",
       "    </tr>\n",
       "    <tr>\n",
       "      <th>9</th>\n",
       "      <td>2017</td>\n",
       "      <td>7</td>\n",
       "      <td>592382.92</td>\n",
       "      <td>3053988.14</td>\n",
       "    </tr>\n",
       "    <tr>\n",
       "      <th>10</th>\n",
       "      <td>2017</td>\n",
       "      <td>8</td>\n",
       "      <td>674396.32</td>\n",
       "      <td>3728384.46</td>\n",
       "    </tr>\n",
       "    <tr>\n",
       "      <th>11</th>\n",
       "      <td>2017</td>\n",
       "      <td>9</td>\n",
       "      <td>727762.45</td>\n",
       "      <td>4456146.91</td>\n",
       "    </tr>\n",
       "    <tr>\n",
       "      <th>12</th>\n",
       "      <td>2017</td>\n",
       "      <td>10</td>\n",
       "      <td>779677.88</td>\n",
       "      <td>5235824.79</td>\n",
       "    </tr>\n",
       "    <tr>\n",
       "      <th>13</th>\n",
       "      <td>2017</td>\n",
       "      <td>11</td>\n",
       "      <td>1194882.80</td>\n",
       "      <td>6430707.59</td>\n",
       "    </tr>\n",
       "    <tr>\n",
       "      <th>14</th>\n",
       "      <td>2017</td>\n",
       "      <td>12</td>\n",
       "      <td>878401.48</td>\n",
       "      <td>7309109.07</td>\n",
       "    </tr>\n",
       "    <tr>\n",
       "      <th>15</th>\n",
       "      <td>2018</td>\n",
       "      <td>1</td>\n",
       "      <td>1115004.18</td>\n",
       "      <td>8424113.25</td>\n",
       "    </tr>\n",
       "    <tr>\n",
       "      <th>16</th>\n",
       "      <td>2018</td>\n",
       "      <td>2</td>\n",
       "      <td>992463.34</td>\n",
       "      <td>9416576.59</td>\n",
       "    </tr>\n",
       "    <tr>\n",
       "      <th>17</th>\n",
       "      <td>2018</td>\n",
       "      <td>3</td>\n",
       "      <td>1159652.12</td>\n",
       "      <td>10576228.71</td>\n",
       "    </tr>\n",
       "    <tr>\n",
       "      <th>18</th>\n",
       "      <td>2018</td>\n",
       "      <td>4</td>\n",
       "      <td>1160785.48</td>\n",
       "      <td>11737014.19</td>\n",
       "    </tr>\n",
       "    <tr>\n",
       "      <th>19</th>\n",
       "      <td>2018</td>\n",
       "      <td>5</td>\n",
       "      <td>1153982.15</td>\n",
       "      <td>12890996.34</td>\n",
       "    </tr>\n",
       "    <tr>\n",
       "      <th>20</th>\n",
       "      <td>2018</td>\n",
       "      <td>6</td>\n",
       "      <td>1023880.50</td>\n",
       "      <td>13914876.84</td>\n",
       "    </tr>\n",
       "    <tr>\n",
       "      <th>21</th>\n",
       "      <td>2018</td>\n",
       "      <td>7</td>\n",
       "      <td>1066540.75</td>\n",
       "      <td>14981417.59</td>\n",
       "    </tr>\n",
       "    <tr>\n",
       "      <th>22</th>\n",
       "      <td>2018</td>\n",
       "      <td>8</td>\n",
       "      <td>1022425.32</td>\n",
       "      <td>16003842.91</td>\n",
       "    </tr>\n",
       "    <tr>\n",
       "      <th>23</th>\n",
       "      <td>2018</td>\n",
       "      <td>9</td>\n",
       "      <td>4439.54</td>\n",
       "      <td>16008282.45</td>\n",
       "    </tr>\n",
       "    <tr>\n",
       "      <th>24</th>\n",
       "      <td>2018</td>\n",
       "      <td>10</td>\n",
       "      <td>589.67</td>\n",
       "      <td>16008872.12</td>\n",
       "    </tr>\n",
       "  </tbody>\n",
       "</table>\n",
       "</div>"
      ],
      "text/plain": [
       "       0   1           2            3\n",
       "0   2016   9      252.24       252.24\n",
       "1   2016  10    59090.48     59342.72\n",
       "2   2016  12       19.62     59362.34\n",
       "3   2017   1   138488.04    197850.38\n",
       "4   2017   2   291908.01    489758.39\n",
       "5   2017   3   449863.60    939621.99\n",
       "6   2017   4   417788.03   1357410.02\n",
       "7   2017   5   592918.82   1950328.84\n",
       "8   2017   6   511276.38   2461605.22\n",
       "9   2017   7   592382.92   3053988.14\n",
       "10  2017   8   674396.32   3728384.46\n",
       "11  2017   9   727762.45   4456146.91\n",
       "12  2017  10   779677.88   5235824.79\n",
       "13  2017  11  1194882.80   6430707.59\n",
       "14  2017  12   878401.48   7309109.07\n",
       "15  2018   1  1115004.18   8424113.25\n",
       "16  2018   2   992463.34   9416576.59\n",
       "17  2018   3  1159652.12  10576228.71\n",
       "18  2018   4  1160785.48  11737014.19\n",
       "19  2018   5  1153982.15  12890996.34\n",
       "20  2018   6  1023880.50  13914876.84\n",
       "21  2018   7  1066540.75  14981417.59\n",
       "22  2018   8  1022425.32  16003842.91\n",
       "23  2018   9     4439.54  16008282.45\n",
       "24  2018  10      589.67  16008872.12"
      ]
     },
     "execution_count": 229,
     "metadata": {},
     "output_type": "execute_result"
    }
   ],
   "source": [
    "query=\"\"\"select years,months,payment ,sum(payment)\n",
    "over(order by years,months) cumulative_sales from\n",
    "(SELECT year(orders.order_purchase_timestamp)as years,\n",
    "month(orders.order_purchase_timestamp) as months,\n",
    "round(sum(payments.payment_value) ,2) as payment \n",
    "from \n",
    "ecommerce23.orders join ecommerce23.payments\n",
    "on orders.order_id = payments.order_id\n",
    "group by years,months order by years,months ) as a;\n",
    "\n",
    "\"\"\"\n",
    "cur.execute(query)\n",
    "data=cur.fetchall()\n",
    "df=pd.DataFrame(data)\n",
    "df"
   ]
  },
  {
   "cell_type": "markdown",
   "id": "6da9f467-53e3-4707-b936-30f2ef3ffdb2",
   "metadata": {},
   "source": [
    "# 3. Calculate the year-over-year growth rate of total sales."
   ]
  },
  {
   "cell_type": "code",
   "execution_count": 239,
   "id": "e7f75888-b4c9-4e1f-b328-6df9072708b6",
   "metadata": {},
   "outputs": [
    {
     "data": {
      "text/html": [
       "<div>\n",
       "<style scoped>\n",
       "    .dataframe tbody tr th:only-of-type {\n",
       "        vertical-align: middle;\n",
       "    }\n",
       "\n",
       "    .dataframe tbody tr th {\n",
       "        vertical-align: top;\n",
       "    }\n",
       "\n",
       "    .dataframe thead th {\n",
       "        text-align: right;\n",
       "    }\n",
       "</style>\n",
       "<table border=\"1\" class=\"dataframe\">\n",
       "  <thead>\n",
       "    <tr style=\"text-align: right;\">\n",
       "      <th></th>\n",
       "      <th>years</th>\n",
       "      <th>yoy_growth</th>\n",
       "    </tr>\n",
       "  </thead>\n",
       "  <tbody>\n",
       "    <tr>\n",
       "      <th>0</th>\n",
       "      <td>2016</td>\n",
       "      <td>NaN</td>\n",
       "    </tr>\n",
       "    <tr>\n",
       "      <th>1</th>\n",
       "      <td>2017</td>\n",
       "      <td>12112.703761</td>\n",
       "    </tr>\n",
       "    <tr>\n",
       "      <th>2</th>\n",
       "      <td>2018</td>\n",
       "      <td>20.000924</td>\n",
       "    </tr>\n",
       "  </tbody>\n",
       "</table>\n",
       "</div>"
      ],
      "text/plain": [
       "   years    yoy_growth\n",
       "0   2016           NaN\n",
       "1   2017  12112.703761\n",
       "2   2018     20.000924"
      ]
     },
     "execution_count": 239,
     "metadata": {},
     "output_type": "execute_result"
    }
   ],
   "source": [
    "query=\"\"\"with a as (SELECT year(orders.order_purchase_timestamp)as years,\n",
    "round(sum(payments.payment_value) ,2) as payment \n",
    "from \n",
    "ecommerce23.orders join ecommerce23.payments\n",
    "on orders.order_id = payments.order_id\n",
    "group by years order by years)\n",
    "\n",
    "select years,(payment - lag(payment,1) over(order by years)) / \n",
    "lag(payment,1) over(order by years ) *100 from a\"\"\"\n",
    "\n",
    "cur.execute(query)\n",
    "data=cur.fetchall()\n",
    "df=pd.DataFrame(data ,columns=[\"years\",\"yoy_growth\"])\n",
    "df"
   ]
  },
  {
   "cell_type": "markdown",
   "id": "3561ce69-1bbc-42dd-9b33-f4f6cfe5ccdb",
   "metadata": {},
   "source": [
    "# 4. Calculate the retention rate of customers, defined as the percentage of customers who make another purchase within 6 months of their first purchase."
   ]
  },
  {
   "cell_type": "code",
   "execution_count": 234,
   "id": "676143ba-6346-4a97-af12-07c55052dec0",
   "metadata": {},
   "outputs": [
    {
     "data": {
      "text/plain": [
       "[(None,)]"
      ]
     },
     "execution_count": 234,
     "metadata": {},
     "output_type": "execute_result"
    }
   ],
   "source": [
    "query =\"\"\"-- 4. Calculate the retention rate of customers, defined as the percentage of customers who make another purchase within 6 months of their first purchase.\n",
    "with a as \n",
    "(select customers.customer_id,\n",
    "min(orders.order_purchase_timestamp) first_order\n",
    "from ecommerce23.customers join ecommerce23.orders\n",
    "on customers.customer_id = orders.customer_id\n",
    "group by customers.customer_id),\n",
    "\n",
    "b as (select a.customer_id,count(distinct orders.order_purchase_timestamp) next_order\n",
    "from a join ecommerce23.orders\n",
    "on orders.customer_id = a.customer_id\n",
    "and  orders.order_purchase_timestamp > first_order\n",
    "and  orders.order_purchase_timestamp < date_add(first_order,interval 6 month)\n",
    "group by a.customer_id)\n",
    "select 100 *(count(distinct a.customer_id )/ count(distinct b.customer_id))\n",
    "from a left join b\n",
    "on a.customer_id = b.customer_id;   \"\"\"\n",
    "cur.execute(query)\n",
    "data=cur.fetchall()\n",
    "data"
   ]
  },
  {
   "cell_type": "markdown",
   "id": "0b08e3d8-08f5-45af-b8d3-af7c458a1bfc",
   "metadata": {},
   "source": [
    "# 5. Identify the top 3 customers who spent the most money in each year."
   ]
  },
  {
   "cell_type": "code",
   "execution_count": 238,
   "id": "d02c4491-e78c-48cc-8a3e-3b7905327391",
   "metadata": {},
   "outputs": [
    {
     "data": {
      "text/plain": [
       "<function matplotlib.pyplot.show(close=None, block=None)>"
      ]
     },
     "execution_count": 238,
     "metadata": {},
     "output_type": "execute_result"
    },
    {
     "data": {
      "image/png": "[encoded data removed]",
      "text/plain": [
       "<Figure size 640x480 with 1 Axes>"
      ]
     },
     "metadata": {},
     "output_type": "display_data"
    }
   ],
   "source": [
    "\n",
    "query = \"\"\"select years, customer_id,payment, d_rank\n",
    "from \n",
    "(Select year(orders.order_purchase_timestamp) years, \n",
    "orders.customer_id,\n",
    "sum(payments.payment_value )  payment,\n",
    "dense_rank() over (partition by year(orders.order_purchase_timestamp)\n",
    "order by sum(payments.payment_value) desc ) d_rank\n",
    " FROM ecommerce23.orders join ecommerce23.payments \n",
    " on payments.order_id = orders.order_id\n",
    " group by year(orders.order_purchase_timestamp),\n",
    " orders.customer_id) as a\n",
    " where d_rank <= 3\"\"\"\n",
    "cur.execute(query)\n",
    "data=cur.fetchall()\n",
    "df=pd.DataFrame(data,columns = [\"years\",\"id\",\"payment\",\"rank\"])\n",
    "sns.barplot(x=\"id\",y=\"payment\",data=df,hue=\"years\")\n",
    "plt.xticks(rotation=90)\n",
    "plt.show"
   ]
  },
  {
   "cell_type": "code",
   "execution_count": null,
   "id": "7f73f634-7347-492a-8006-d82ffc16231c",
   "metadata": {},
   "outputs": [],
   "source": []
  }
 ],
 "metadata": {
  "kernelspec": {
   "display_name": "Python 3 (ipykernel)",
   "language": "python",
   "name": "python3"
  },
  "language_info": {
   "codemirror_mode": {
    "name": "ipython",
    "version": 3
   },
   "file_extension": ".py",
   "mimetype": "text/x-python",
   "name": "python",
   "nbconvert_exporter": "python",
   "pygments_lexer": "ipython3",
   "version": "3.12.10"
  }
 },
 "nbformat": 4,
 "nbformat_minor": 5
}
